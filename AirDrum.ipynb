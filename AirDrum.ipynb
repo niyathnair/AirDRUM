{
 "cells": [
  {
   "cell_type": "code",
   "execution_count": 2,
   "id": "064ddb14",
   "metadata": {},
   "outputs": [
    {
     "name": "stdout",
     "output_type": "stream",
     "text": [
      "Requirement already satisfied: opencv-python in c:\\users\\nickn\\appdata\\local\\anaconda3\\envs\\niyath37\\lib\\site-packages (4.9.0.80)\n",
      "Requirement already satisfied: numpy>=1.17.0 in c:\\users\\nickn\\appdata\\local\\anaconda3\\envs\\niyath37\\lib\\site-packages (from opencv-python) (1.19.5)\n",
      "Collecting pygame\n",
      "  Downloading pygame-2.5.2-cp37-cp37m-win_amd64.whl (10.7 MB)\n",
      "     ---------------------------------------- 10.7/10.7 MB 5.1 MB/s eta 0:00:00\n",
      "Installing collected packages: pygame\n",
      "Successfully installed pygame-2.5.2\n"
     ]
    }
   ],
   "source": [
    "!pip install opencv-python\n",
    "!pip install pygame"
   ]
  },
  {
   "cell_type": "code",
   "execution_count": 1,
   "id": "d4316579",
   "metadata": {},
   "outputs": [
    {
     "name": "stdout",
     "output_type": "stream",
     "text": [
      "pygame 2.5.2 (SDL 2.28.3, Python 3.7.1)\n",
      "Hello from the pygame community. https://www.pygame.org/contribute.html\n"
     ]
    },
    {
     "name": "stderr",
     "output_type": "stream",
     "text": [
      "C:\\Users\\nickn\\AppData\\Local\\anaconda3\\envs\\niyath37\\lib\\site-packages\\numpy\\_distributor_init.py:32: UserWarning: loaded more than 1 DLL from .libs:\n",
      "C:\\Users\\nickn\\AppData\\Local\\anaconda3\\envs\\niyath37\\lib\\site-packages\\numpy\\.libs\\libopenblas.PYQHXLVVQ7VESDPUVUADXEVJOBGHJPAY.gfortran-win_amd64.dll\n",
      "C:\\Users\\nickn\\AppData\\Local\\anaconda3\\envs\\niyath37\\lib\\site-packages\\numpy\\.libs\\libopenblas.wcdjnk7yvmpzq2me2zzhjjrj3jikndb7.gfortran-win_amd64.dll\n",
      "  stacklevel=1)\n"
     ]
    }
   ],
   "source": [
    "import cv2\n",
    "import numpy as np\n",
    "import pygame"
   ]
  },
  {
   "cell_type": "code",
   "execution_count": 2,
   "id": "7bbdd0a5",
   "metadata": {},
   "outputs": [],
   "source": [
    "pygame.mixer.init()"
   ]
  },
  {
   "cell_type": "code",
   "execution_count": 3,
   "id": "9db93469",
   "metadata": {},
   "outputs": [],
   "source": [
    "drum_sounds = {\n",
    "    'snare': pygame.mixer.Sound('snare.wav'),\n",
    "    'kick': pygame.mixer.Sound('kick.wav'),\n",
    "    'hihat': pygame.mixer.Sound('hihat.wav')\n",
    "}"
   ]
  },
  {
   "cell_type": "code",
   "execution_count": 4,
   "id": "74218618",
   "metadata": {},
   "outputs": [],
   "source": [
    "def is_inside_rect(point, rect):\n",
    "    x, y = point\n",
    "    rx, ry, rw, rh = rect\n",
    "    return rx < x < rx + rw and ry < y < ry + rh\n"
   ]
  },
  {
   "cell_type": "code",
   "execution_count": 5,
   "id": "dfb2a79e",
   "metadata": {},
   "outputs": [],
   "source": [
    "def play_drum_sound(gesture, velocity):\n",
    "    if gesture in drum_sounds:\n",
    "        # Adjust volume based on velocity\n",
    "        volume = max(min(velocity / 10, 1.0), 0.3)  # Scale velocity to a range between 0.3 and 1.0\n",
    "        drum_sounds[gesture].set_volume(volume)\n",
    "        drum_sounds[gesture].play()"
   ]
  },
  {
   "cell_type": "code",
   "execution_count": 6,
   "id": "a92eafa3",
   "metadata": {},
   "outputs": [],
   "source": [
    "roi_coords = {\n",
    "    'left_hand': (50, 50, 200, 200),   # (x, y, width, height)\n",
    "    'right_hand': (395, 50, 200, 200)\n",
    "}"
   ]
  },
  {
   "cell_type": "code",
   "execution_count": 7,
   "id": "3ec4a484",
   "metadata": {},
   "outputs": [],
   "source": [
    "cap = cv2.VideoCapture(0)\n",
    "\n",
    "# Previous centroid positions for velocity calculation for left and right hands\n",
    "prev_cx_left = None\n",
    "prev_cy_left = None\n",
    "prev_cx_right = None\n",
    "prev_cy_right = None\n",
    "\n",
    "while True:\n",
    "    ret, frame = cap.read()\n",
    "    if not ret:\n",
    "        break\n",
    "    frame = cv2.flip(frame, 1)\n",
    "\n",
    "    # Draw ROIs\n",
    "    for roi_name, coords in roi_coords.items():\n",
    "        x, y, w, h = coords\n",
    "        cv2.rectangle(frame, (x, y), (x + w, y + h), (255, 0, 0), 2)\n",
    "\n",
    "    # Convert frame to grayscale\n",
    "    gray = cv2.cvtColor(frame, cv2.COLOR_BGR2GRAY)\n",
    "\n",
    "    # Apply Gaussian blur\n",
    "    blurred = cv2.GaussianBlur(gray, (15, 15), 0)\n",
    "\n",
    "    # Threshold the image to get binary image\n",
    "    _, thresh = cv2.threshold(blurred, 127, 255, cv2.THRESH_BINARY)\n",
    "\n",
    "    # Find contours\n",
    "    contours, _ = cv2.findContours(thresh, cv2.RETR_TREE, cv2.CHAIN_APPROX_SIMPLE)\n",
    "\n",
    "    # Iterate through contours\n",
    "    for contour in contours:\n",
    "        area = cv2.contourArea(contour)\n",
    "        if area > 1000:  # Adjust this threshold according to your environment\n",
    "            # Get center of contour\n",
    "            M = cv2.moments(contour)\n",
    "            if M[\"m00\"] != 0:\n",
    "                cx = int(M[\"m10\"] / M[\"m00\"])\n",
    "                cy = int(M[\"m01\"] / M[\"m00\"])\n",
    "\n",
    "                # Calculate velocity based on previous centroid position for each hand\n",
    "                if 'left_hand' in roi_coords and is_inside_rect((cx, cy), roi_coords['left_hand']):\n",
    "                    if prev_cx_left is not None and prev_cy_left is not None:\n",
    "                        velocity_left = np.sqrt((cx - prev_cx_left) ** 2 + (cy - prev_cy_left) ** 2)\n",
    "                    else:\n",
    "                        velocity_left = 0\n",
    "                    prev_cx_left = cx\n",
    "                    prev_cy_left = cy\n",
    "                    play_drum_sound('hihat', velocity_left)  # Play sound for left hand\n",
    "                elif 'right_hand' in roi_coords and is_inside_rect((cx, cy), roi_coords['right_hand']):\n",
    "                    if prev_cx_right is not None and prev_cy_right is not None:\n",
    "                        velocity_right = np.sqrt((cx - prev_cx_right) ** 2 + (cy - prev_cy_right) ** 2)\n",
    "                    else:\n",
    "                        velocity_right = 0\n",
    "                    prev_cx_right = cx\n",
    "                    prev_cy_right = cy\n",
    "                    play_drum_sound('kick', velocity_right)  # Play sound for right hand\n",
    "\n",
    "                # Draw circle\n",
    "                cv2.circle(frame, (cx, cy), 5, (0, 255, 0), -1)\n",
    "\n",
    "    # mask (ROI)\n",
    "    mask = np.zeros_like(frame)\n",
    "    for roi_name, coords in roi_coords.items():\n",
    "        x, y, w, h = coords\n",
    "        cv2.rectangle(mask, (x, y), (x + w, y + h), (255, 255, 255), -1)\n",
    "    masked_frame = cv2.bitwise_and(frame, mask)\n",
    "\n",
    "    cv2.imshow('Air Drums', masked_frame)\n",
    "\n",
    "    if cv2.waitKey(1) & 0xFF == ord('q'):\n",
    "        break\n",
    "\n",
    "cap.release()\n",
    "cv2.destroyAllWindows()"
   ]
  },
  {
   "cell_type": "code",
   "execution_count": 87,
   "id": "deff53ca",
   "metadata": {},
   "outputs": [],
   "source": [
    "# roi_right_hand = (50, 50, 200, 200)   # (x, y, width, height)\n",
    "\n",
    "# # Function to check if a point (hand) is inside a rectangle (ROI)\n",
    "# def is_inside_rect(point, rect):\n",
    "#     x, y = point\n",
    "#     rx, ry, rw, rh = rect\n",
    "#     return rx < x < rx + rw and ry < y < ry + rh\n",
    "\n",
    "# # Function to play drum sound based on gesture\n",
    "# def play_drum_sound(gesture):\n",
    "#     if gesture in drum_sounds:\n",
    "#         drum_sounds[gesture].play()\n",
    "\n",
    "# # OpenCV setup\n",
    "# cap = cv2.VideoCapture(0)\n",
    "\n",
    "# # Previous state of the right hand (open or closed)\n",
    "# prev_right_hand_state = None\n",
    "\n",
    "# while True:\n",
    "#     ret, frame = cap.read()\n",
    "#     if not ret:\n",
    "#         breakq\n",
    "\n",
    "#     # Flip the frame horizontally\n",
    "#     frame = cv2.flip(frame, 1)\n",
    "\n",
    "#     # Draw ROI for the right hand on the frame\n",
    "#     x, y, w, h = roi_right_hand\n",
    "#     cv2.rectangle(frame, (x, y), (x + w, y + h), (255, 0, 0), 2)\n",
    "\n",
    "#     # Convert frame to grayscale\n",
    "#     gray = cv2.cvtColor(frame, cv2.COLOR_BGR2GRAY)\n",
    "\n",
    "#     # Apply Gaussian blur\n",
    "#     blurred = cv2.GaussianBlur(gray, (15, 15), 0)\n",
    "\n",
    "#     # Threshold the image to get binary image\n",
    "#     _, thresh = cv2.threshold(blurred, 127, 255, cv2.THRESH_BINARY)\n",
    "\n",
    "#     # Find contours\n",
    "#     contours, _ = cv2.findContours(thresh, cv2.RETR_TREE, cv2.CHAIN_APPROX_SIMPLE)\n",
    "\n",
    "#     # Check if the right hand is open or closed\n",
    "#     right_hand_state = 'open' if len(contours) > 0 else 'closed'\n",
    "\n",
    "#     # If the state of the right hand has changed\n",
    "#     if right_hand_state != prev_right_hand_state:\n",
    "#         # Determine the gesture based on the state of the right hand\n",
    "#         gesture = 'snare' if right_hand_state == 'open' else 'kick'\n",
    "\n",
    "#         # Play drum sound corresponding to the gesture\n",
    "#         play_drum_sound(gesture)\n",
    "\n",
    "#         # Update the previous state of the right hand\n",
    "#         prev_right_hand_state = right_hand_state\n",
    "\n",
    "#     cv2.imshow('Air Drums', frame)\n",
    "#     if cv2.waitKey(1) & 0xFF == ord('q'):\n",
    "#         break\n",
    "\n",
    "# cap.release()\n",
    "# cv2.destroyAllWindows()"
   ]
  },
  {
   "cell_type": "code",
   "execution_count": null,
   "id": "b44d6d2d",
   "metadata": {},
   "outputs": [],
   "source": []
  }
 ],
 "metadata": {
  "kernelspec": {
   "display_name": "Python 3 (ipykernel)",
   "language": "python",
   "name": "python3"
  },
  "language_info": {
   "codemirror_mode": {
    "name": "ipython",
    "version": 3
   },
   "file_extension": ".py",
   "mimetype": "text/x-python",
   "name": "python",
   "nbconvert_exporter": "python",
   "pygments_lexer": "ipython3",
   "version": "3.7.1"
  }
 },
 "nbformat": 4,
 "nbformat_minor": 5
}
